{
 "cells": [
  {
   "cell_type": "code",
   "execution_count": 52,
   "metadata": {
    "collapsed": true
   },
   "outputs": [],
   "source": [
    "%matplotlib inline\n",
    "import numpy as np\n",
    "import scipy as sp\n",
    "import matplotlib as mpl\n",
    "import matplotlib.cm as cm\n",
    "import matplotlib.pyplot as plt\n",
    "import pandas as pd\n",
    "pd.set_option('display.width', 500)\n",
    "pd.set_option('display.max_columns', 100)\n",
    "pd.set_option('display.notebook_repr_html', True)\n",
    "import seaborn as sns\n",
    "sns.set_style(\"whitegrid\")\n",
    "sns.set_context(\"poster\")"
   ]
  },
  {
   "cell_type": "code",
   "execution_count": 77,
   "metadata": {
    "collapsed": false
   },
   "outputs": [],
   "source": [
    "#Testing with 2010 Bronx data\n",
    "f = open('AllYears/2010_bronx.csv','r')\n",
    "df = pd.read_csv(f, parse_dates=True)\n",
    "f.close()"
   ]
  },
  {
   "cell_type": "code",
   "execution_count": 84,
   "metadata": {
    "collapsed": true
   },
   "outputs": [],
   "source": [
    "#makesure Sale Date is Date Type\n",
    "df['SALE DATE'] = pd.to_datetime(df['SALE DATE'])"
   ]
  },
  {
   "cell_type": "code",
   "execution_count": 85,
   "metadata": {
    "collapsed": false
   },
   "outputs": [],
   "source": [
    "df2 = df[df['SALE PRICE'] > 1000]"
   ]
  },
  {
   "cell_type": "code",
   "execution_count": 86,
   "metadata": {
    "collapsed": false
   },
   "outputs": [],
   "source": [
    "#columns to keep\n",
    "to_keep =(\n",
    "[u'BOROUGH', u'NEIGHBORHOOD', u'BUILDING CLASS CATEGORY',\n",
    " u'TAX CLASS AT PRESENT', u'BLOCK', u'LOT',\n",
    "       u'BUILDING CLASS AT PRESENT', u'ADDRESS',\n",
    "       u'ZIP CODE', u'RESIDENTIAL UNITS', u'COMMERCIAL UNITS', u'TOTAL UNITS',\n",
    "       u'LAND SQUARE FEET', u'GROSS SQUARE FEET', u'YEAR BUILT',\n",
    "       u'TAX CLASS AT TIME OF SALE', u'BUILDING CLASS AT TIME OF SALE',\n",
    "       u'SALE PRICE', u'SALE DATE'])"
   ]
  },
  {
   "cell_type": "code",
   "execution_count": 91,
   "metadata": {
    "collapsed": false
   },
   "outputs": [],
   "source": [
    "cleaned = df2[to_keep].reset_index(drop=True)"
   ]
  },
  {
   "cell_type": "code",
   "execution_count": 114,
   "metadata": {
    "collapsed": false
   },
   "outputs": [],
   "source": [
    "#create year column\n",
    "cleaned['YEAR'] = cleaned['SALE DATE'].apply(lambda r: r.year)\n",
    "\n",
    "\n",
    "cleaned.columns = [i.strip('\\n') for i in cleaned.columns]"
   ]
  },
  {
   "cell_type": "code",
   "execution_count": 101,
   "metadata": {
    "collapsed": false
   },
   "outputs": [],
   "source": [
    "#Get All Years into Single DataFrame\n",
    "import glob\n",
    "import os\n",
    "path = os.getcwd() + '/AllYears/'\n",
    "allFiles = glob.glob(path + \"/*.csv\")\n"
   ]
  },
  {
   "cell_type": "code",
   "execution_count": 115,
   "metadata": {
    "collapsed": true
   },
   "outputs": [],
   "source": [
    "frame = pd.DataFrame()\n",
    "list_ = []\n",
    "for file_ in allFiles:\n",
    "    df = pd.read_csv(file_,index_col=None, header=0)\n",
    "    \n",
    "    \n",
    "    #some have tabs at end of file names\n",
    "    df.columns = [i.strip('\\n') for i in df.columns]\n",
    "    \n",
    "    \n",
    "    \n",
    "    \n",
    "    \n",
    "    list_.append(df)\n",
    "frame = pd.concat(list_,)"
   ]
  },
  {
   "cell_type": "code",
   "execution_count": 116,
   "metadata": {
    "collapsed": false
   },
   "outputs": [
    {
     "data": {
      "text/plain": [
       "Unnamed: 0                        405303\n",
       "BOROUGH                           405303\n",
       "NEIGHBORHOOD                      405303\n",
       "BUILDING CLASS CATEGORY           405303\n",
       "TAX CLASS AT PRESENT              405303\n",
       "BLOCK                             405303\n",
       "LOT                               405303\n",
       "EASE-MENT                         405303\n",
       "BUILDING CLASS AT PRESENT         405303\n",
       "ADDRESS                           405303\n",
       "APARTMENT NUMBER                  405303\n",
       "ZIP CODE                          405303\n",
       "RESIDENTIAL UNITS                 405303\n",
       "COMMERCIAL UNITS                  405303\n",
       "TOTAL UNITS                       405303\n",
       "LAND SQUARE FEET                  405303\n",
       "GROSS SQUARE FEET                 405303\n",
       "YEAR BUILT                        405303\n",
       "TAX CLASS AT TIME OF SALE         405303\n",
       "BUILDING CLASS AT TIME OF SALE    405303\n",
       "SALE PRICE                        405303\n",
       "SALE DATE                         405303\n",
       "dtype: int64"
      ]
     },
     "execution_count": 116,
     "metadata": {},
     "output_type": "execute_result"
    }
   ],
   "source": [
    "frame.count()"
   ]
  },
  {
   "cell_type": "code",
   "execution_count": null,
   "metadata": {
    "collapsed": true
   },
   "outputs": [],
   "source": []
  }
 ],
 "metadata": {
  "kernelspec": {
   "display_name": "Python 2",
   "language": "python",
   "name": "python2"
  },
  "language_info": {
   "codemirror_mode": {
    "name": "ipython",
    "version": 2
   },
   "file_extension": ".py",
   "mimetype": "text/x-python",
   "name": "python",
   "nbconvert_exporter": "python",
   "pygments_lexer": "ipython2",
   "version": "2.7.10"
  }
 },
 "nbformat": 4,
 "nbformat_minor": 0
}
