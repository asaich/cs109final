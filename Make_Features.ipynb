{
 "cells": [
  {
   "cell_type": "code",
   "execution_count": 9,
   "metadata": {
    "collapsed": true
   },
   "outputs": [],
   "source": [
    "import pandas as pd"
   ]
  },
  {
   "cell_type": "code",
   "execution_count": 15,
   "metadata": {
    "collapsed": false
   },
   "outputs": [],
   "source": [
    "#Testing with 2010 Bronx data\n",
    "f = open('2010/2010_bronx.csv','r')\n",
    "df = pd.read_csv(f)\n",
    "f.close()"
   ]
  },
  {
   "cell_type": "code",
   "execution_count": 20,
   "metadata": {
    "collapsed": true
   },
   "outputs": [
    {
     "data": {
      "text/plain": [
       "Unnamed: 0                        4755\n",
       "BOROUGH                           4755\n",
       "NEIGHBORHOOD                      4755\n",
       "BUILDING CLASS CATEGORY           4755\n",
       "TAX CLASS AT PRESENT              4755\n",
       "BLOCK                             4755\n",
       "LOT                               4755\n",
       "EASE-MENT                         4755\n",
       "BUILDING CLASS AT PRESENT         4755\n",
       "ADDRESS                           4755\n",
       "APARTMENT NUMBER                  4755\n",
       "ZIP CODE                          4755\n",
       "RESIDENTIAL UNITS                 4755\n",
       "COMMERCIAL UNITS                  4755\n",
       "TOTAL UNITS                       4755\n",
       "LAND SQUARE FEET                  4755\n",
       "GROSS SQUARE FEET                 4755\n",
       "YEAR BUILT                        4755\n",
       "TAX CLASS AT TIME OF SALE         4755\n",
       "BUILDING CLASS AT TIME OF SALE    4755\n",
       "SALE PRICE                        4755\n",
       "SALE DATE                         4755\n",
       "dtype: int64"
      ]
     },
     "execution_count": 20,
     "metadata": {},
     "output_type": "execute_result"
    }
   ],
   "source": [
    "df.count()"
   ]
  },
  {
   "cell_type": "code",
   "execution_count": 37,
   "metadata": {
    "collapsed": false
   },
   "outputs": [],
   "source": [
    "df2 = df[df['SALE PRICE'] > 1000]"
   ]
  },
  {
   "cell_type": "code",
   "execution_count": 38,
   "metadata": {
    "collapsed": false
   },
   "outputs": [],
   "source": [
    "#columns to keep\n",
    "to_keep =(\n",
    "[u'BOROUGH', u'NEIGHBORHOOD', u'BUILDING CLASS CATEGORY',\n",
    " u'TAX CLASS AT PRESENT', u'BLOCK', u'LOT',\n",
    "       u'BUILDING CLASS AT PRESENT', u'ADDRESS',\n",
    "       u'ZIP CODE', u'RESIDENTIAL UNITS', u'COMMERCIAL UNITS', u'TOTAL UNITS',\n",
    "       u'LAND SQUARE FEET', u'GROSS SQUARE FEET', u'YEAR BUILT',\n",
    "       u'TAX CLASS AT TIME OF SALE', u'BUILDING CLASS AT TIME OF SALE',\n",
    "       u'SALE PRICE'])"
   ]
  },
  {
   "cell_type": "code",
   "execution_count": 40,
   "metadata": {
    "collapsed": false
   },
   "outputs": [
    {
     "data": {
      "text/plain": [
       "BOROUGH                           2911\n",
       "NEIGHBORHOOD                      2911\n",
       "BUILDING CLASS CATEGORY           2911\n",
       "TAX CLASS AT PRESENT              2911\n",
       "BLOCK                             2911\n",
       "LOT                               2911\n",
       "BUILDING CLASS AT PRESENT         2911\n",
       "ADDRESS                           2911\n",
       "ZIP CODE                          2911\n",
       "RESIDENTIAL UNITS                 2911\n",
       "COMMERCIAL UNITS                  2911\n",
       "TOTAL UNITS                       2911\n",
       "LAND SQUARE FEET                  2911\n",
       "GROSS SQUARE FEET                 2911\n",
       "YEAR BUILT                        2911\n",
       "TAX CLASS AT TIME OF SALE         2911\n",
       "BUILDING CLASS AT TIME OF SALE    2911\n",
       "SALE PRICE                        2911\n",
       "dtype: int64"
      ]
     },
     "execution_count": 40,
     "metadata": {},
     "output_type": "execute_result"
    }
   ],
   "source": [
    "df2[to_keep].ind"
   ]
  },
  {
   "cell_type": "code",
   "execution_count": null,
   "metadata": {
    "collapsed": true
   },
   "outputs": [],
   "source": []
  }
 ],
 "metadata": {
  "kernelspec": {
   "display_name": "Python 2",
   "language": "python",
   "name": "python2"
  },
  "language_info": {
   "codemirror_mode": {
    "name": "ipython",
    "version": 2
   },
   "file_extension": ".py",
   "mimetype": "text/x-python",
   "name": "python",
   "nbconvert_exporter": "python",
   "pygments_lexer": "ipython2",
   "version": "2.7.10"
  }
 },
 "nbformat": 4,
 "nbformat_minor": 0
}
